{
 "cells": [
  {
   "cell_type": "code",
   "execution_count": 8,
   "id": "3d0b0152",
   "metadata": {},
   "outputs": [],
   "source": [
    "import numpy as np\n",
    "import random\n",
    "from matplotlib import pyplot as plt\n",
    "from matplotlib import animation"
   ]
  },
  {
   "cell_type": "code",
   "execution_count": 33,
   "id": "23e395d5",
   "metadata": {
    "code_folding": []
   },
   "outputs": [],
   "source": [
    "class particle_array():\n",
    "    def __init__(self, n, dims):\n",
    "        self.lbound = dims[0]\n",
    "        self.ubound = dims[1]\n",
    "        self.llimit = dims[2]\n",
    "        self.ulimit = dims[3]\n",
    "        particle_position = np.linspace(self.lbound, self.ubound, n, dtype = float)\n",
    "        self.particles = np.array([particle([i, i, i], \n",
    "                                   [0, 0, 0]) for i in particle_position], dtype = float)\n",
    "        for particle_1 in self.particles:\n",
    "            total = 0\n",
    "            for particle_2 in self.particles:\n",
    "                if id(particle_1) != id(particle_2):\n",
    "                    total += particle_2.m * pairwise_calculator(particle_1, particle_2).gaus_kern()\n",
    "            particle_1.initrho = total\n",
    "            particle_1.rho = total\n",
    "            particle_1.initpre = (100 * particle_1.initrho * (particle_1.vmax ** 2))/7\n",
    "            particle_1.pre = (100 * particle_1.initrho * (particle_1.vmax ** 2))/7\n",
    "        self.calc_accel()\n",
    "        self.calc_veloc()\n",
    "            \n",
    "    def get_position(self):\n",
    "        for particle in self.particles:\n",
    "            print(particle.p)\n",
    "    def get_direction(self):\n",
    "        for particle in self.particles:\n",
    "            print(particle.d)\n",
    "    def get_initrho(self):\n",
    "        for particle in self.particles:\n",
    "            print(particle.initrho)\n",
    "    def get_initpre(self):\n",
    "        for particle in self.particles:\n",
    "            print(particle.initpre)\n",
    "    def get_rho(self):\n",
    "        for particle in self.particles:\n",
    "            print(particle.rho)\n",
    "    def get_pre(self):\n",
    "        for particle in self.particles:\n",
    "            print(particle.pre)\n",
    "    def get_accel(self):\n",
    "        for particle in self.particles:\n",
    "            print(particle.a)\n",
    "    def get_veloc(self):\n",
    "        for particle in self.particles:\n",
    "            print(particle.d)\n",
    "            \n",
    "    def calc_accel(self):\n",
    "        for particle_1 in self.particles:\n",
    "            total = 0\n",
    "            for particle_2 in self.particles:\n",
    "                if id(particle_1) != id(particle_2):\n",
    "                    total += (particle_2.m)*\\\n",
    "                    ((particle_1.pre / (particle_1.rho ** 2)) + (particle_2.pre / (particle_2.rho ** 2))) *\\\n",
    "                    (pairwise_calculator(particle_1, particle_2).dgaus_kern())\n",
    "            particle_1.a = -total\n",
    "            \n",
    "    def calc_veloc(self):\n",
    "        for particle in self.particles:\n",
    "            for i in range(3):\n",
    "                if i == 2:\n",
    "                    potential_speed = (particle.dt * particle.a) - (particle.dt * particle.g)\n",
    "                    if potential_speed + particle.d[i] > particle.vmax:\n",
    "                        particle.d[i] = particle.vmax\n",
    "                    elif potential_speed + particle.d[i] < -particle.vmax:\n",
    "                        particle.d[i] = -particle.vmax\n",
    "                    else:\n",
    "                        particle.d[i] += potential_speed\n",
    "                else:\n",
    "                    potential_speed = (particle.dt * particle.a)\n",
    "                    if potential_speed + particle.d[i] > particle.vmax:\n",
    "                        particle.d[i] = particle.vmax\n",
    "                    elif potential_speed + particle.d[i] < -particle.vmax:\n",
    "                        particle.d[i] = -particle.vmax\n",
    "                    else:\n",
    "                        particle.d[i] += potential_speed\n",
    "                        \n",
    "    def move(self):\n",
    "        for particle in self.particles:\n",
    "            potential_positions = []\n",
    "            for i in range(3):\n",
    "                pass\n",
    "            "
   ]
  },
  {
   "cell_type": "code",
   "execution_count": 34,
   "id": "1eaf3cf0",
   "metadata": {},
   "outputs": [],
   "source": [
    "class particle():\n",
    "    def __init__(self, position, direction):\n",
    "        self.p = position\n",
    "        self.d = direction\n",
    "        self.m = 1\n",
    "        self.dt = 0.01 #s\n",
    "        self.initrho = 0\n",
    "        self.rho = 0\n",
    "        self.initpre = 0\n",
    "        self.pre = 0\n",
    "        self.vmax = 30\n",
    "        self.a = 0\n",
    "        self.g = 9.81\n",
    "    \n",
    "    def get_magnitude(self):\n",
    "        x, y, z = self.p\n",
    "        return ((x**2) + (y**2) + (z**2))**(1/2)\n",
    "        #return np.linalg.norm(self.p) This one works too"
   ]
  },
  {
   "cell_type": "code",
   "execution_count": 35,
   "id": "84f549cf",
   "metadata": {},
   "outputs": [],
   "source": [
    "class pairwise_calculator():\n",
    "    def __init__(self, particle1, particle2):\n",
    "        self.p1 = particle1\n",
    "        self.p2 = particle2\n",
    "        \n",
    "    def gaus_kern(self, h = 1, d = 3):\n",
    "        mag_1 = self.p1.get_magnitude()\n",
    "        mag_2 = self.p2.get_magnitude()\n",
    "        delta_mag = mag_1 - mag_2\n",
    "        return ((1 / h*(np.pi**(1/2)))**d) * (np.e**(-(delta_mag**2) / (h**2)))\n",
    "    \n",
    "    def dgaus_kern(self, h = 1, d = 3):\n",
    "        mag_1 = self.p1.get_magnitude()\n",
    "        mag_2 = self.p2.get_magnitude()\n",
    "        delta_mag = mag_1 - mag_2\n",
    "        return -((2*np.e**(-(delta_mag**2) / (h**2)))*(delta_mag)) / ((h**5)*(np.pi*(3/2)))"
   ]
  },
  {
   "cell_type": "code",
   "execution_count": 36,
   "id": "5af83b3b",
   "metadata": {
    "scrolled": true
   },
   "outputs": [
    {
     "ename": "TypeError",
     "evalue": "float() argument must be a string or a number, not 'particle'",
     "output_type": "error",
     "traceback": [
      "\u001b[1;31m---------------------------------------------------------------------------\u001b[0m",
      "\u001b[1;31mTypeError\u001b[0m                                 Traceback (most recent call last)",
      "\u001b[1;32m~\\AppData\\Local\\Temp\\ipykernel_5484\\2853009794.py\u001b[0m in \u001b[0;36m<module>\u001b[1;34m\u001b[0m\n\u001b[1;32m----> 1\u001b[1;33m \u001b[0mmy_particles\u001b[0m \u001b[1;33m=\u001b[0m \u001b[0mparticle_array\u001b[0m\u001b[1;33m(\u001b[0m\u001b[1;36m10\u001b[0m\u001b[1;33m,\u001b[0m \u001b[1;33m[\u001b[0m\u001b[1;36m0\u001b[0m\u001b[1;33m,\u001b[0m\u001b[1;36m10\u001b[0m\u001b[1;33m,\u001b[0m\u001b[1;36m0\u001b[0m\u001b[1;33m,\u001b[0m\u001b[1;36m20\u001b[0m\u001b[1;33m]\u001b[0m\u001b[1;33m)\u001b[0m\u001b[1;33m\u001b[0m\u001b[1;33m\u001b[0m\u001b[0m\n\u001b[0m",
      "\u001b[1;32m~\\AppData\\Local\\Temp\\ipykernel_5484\\3042924680.py\u001b[0m in \u001b[0;36m__init__\u001b[1;34m(self, n, dims)\u001b[0m\n\u001b[0;32m      6\u001b[0m         \u001b[0mself\u001b[0m\u001b[1;33m.\u001b[0m\u001b[0mulimit\u001b[0m \u001b[1;33m=\u001b[0m \u001b[0mdims\u001b[0m\u001b[1;33m[\u001b[0m\u001b[1;36m3\u001b[0m\u001b[1;33m]\u001b[0m\u001b[1;33m\u001b[0m\u001b[1;33m\u001b[0m\u001b[0m\n\u001b[0;32m      7\u001b[0m         \u001b[0mparticle_position\u001b[0m \u001b[1;33m=\u001b[0m \u001b[0mnp\u001b[0m\u001b[1;33m.\u001b[0m\u001b[0mlinspace\u001b[0m\u001b[1;33m(\u001b[0m\u001b[0mself\u001b[0m\u001b[1;33m.\u001b[0m\u001b[0mlbound\u001b[0m\u001b[1;33m,\u001b[0m \u001b[0mself\u001b[0m\u001b[1;33m.\u001b[0m\u001b[0mubound\u001b[0m\u001b[1;33m,\u001b[0m \u001b[0mn\u001b[0m\u001b[1;33m,\u001b[0m \u001b[0mdtype\u001b[0m \u001b[1;33m=\u001b[0m \u001b[0mfloat\u001b[0m\u001b[1;33m)\u001b[0m\u001b[1;33m\u001b[0m\u001b[1;33m\u001b[0m\u001b[0m\n\u001b[1;32m----> 8\u001b[1;33m         self.particles = np.array([particle([i, i, i], \n\u001b[0m\u001b[0;32m      9\u001b[0m                                    [0, 0, 0]) for i in particle_position], dtype = float)\n\u001b[0;32m     10\u001b[0m         \u001b[1;32mfor\u001b[0m \u001b[0mparticle_1\u001b[0m \u001b[1;32min\u001b[0m \u001b[0mself\u001b[0m\u001b[1;33m.\u001b[0m\u001b[0mparticles\u001b[0m\u001b[1;33m:\u001b[0m\u001b[1;33m\u001b[0m\u001b[1;33m\u001b[0m\u001b[0m\n",
      "\u001b[1;31mTypeError\u001b[0m: float() argument must be a string or a number, not 'particle'"
     ]
    }
   ],
   "source": [
    "my_particles = particle_array(10, [0,10,0,20])"
   ]
  },
  {
   "cell_type": "code",
   "execution_count": 37,
   "id": "38fef06b",
   "metadata": {},
   "outputs": [
    {
     "name": "stdout",
     "output_type": "stream",
     "text": [
      "[0.0, 0.0, 0.0]\n",
      "[1.1111111111111112, 1.1111111111111112, 1.1111111111111112]\n",
      "[2.2222222222222223, 2.2222222222222223, 2.2222222222222223]\n",
      "[3.3333333333333335, 3.3333333333333335, 3.3333333333333335]\n",
      "[4.444444444444445, 4.444444444444445, 4.444444444444445]\n",
      "[5.555555555555555, 5.555555555555555, 5.555555555555555]\n",
      "[6.666666666666667, 6.666666666666667, 6.666666666666667]\n",
      "[7.777777777777779, 7.777777777777779, 7.777777777777779]\n",
      "[8.88888888888889, 8.88888888888889, 8.88888888888889]\n",
      "[10.0, 10.0, 10.0]\n"
     ]
    }
   ],
   "source": [
    "my_particles.get_position()"
   ]
  },
  {
   "cell_type": "code",
   "execution_count": 38,
   "id": "67edced6",
   "metadata": {
    "scrolled": true
   },
   "outputs": [
    {
     "name": "stdout",
     "output_type": "stream",
     "text": [
      "[-28.28951315256079, -28.28951315256079, -28.38761315256079]\n",
      "[9.428968662330837, 9.428968662330837, 9.330868662330836]\n",
      "[0.00035231835009537604, 0.00035231835009537604, -0.09774768164990463]\n",
      "[2.110699581932573e-09, 2.110699581932573e-09, -0.09809999788930042]\n",
      "[-1.0573644846444275e-13, -1.0573644846444275e-13, -0.09810000000010574]\n",
      "[1.579761542406057e-13, 1.579761542406057e-13, -0.09809999999984204]\n",
      "[-2.11077952930338e-09, -2.11077952930338e-09, -0.09810000211077953]\n",
      "[-0.0003523183500634006, -0.0003523183500634006, -0.0984523183500634]\n",
      "[-9.428968662330835, -9.428968662330835, -9.527068662330835]\n",
      "[28.28951315256079, 28.28951315256079, 28.19141315256079]\n"
     ]
    }
   ],
   "source": [
    "my_particles.get_direction()"
   ]
  },
  {
   "cell_type": "code",
   "execution_count": 39,
   "id": "b8ca244b",
   "metadata": {},
   "outputs": [
    {
     "name": "stdout",
     "output_type": "stream",
     "text": [
      "0.13716181349827491\n",
      "0.27432157709743227\n",
      "0.27432362699653123\n",
      "0.27432362699654983\n",
      "0.2743236269965508\n",
      "0.2743236269965499\n",
      "0.2743236269965489\n",
      "0.27432362699653123\n",
      "0.27432157709743227\n",
      "0.13716181349827491\n"
     ]
    }
   ],
   "source": [
    "my_particles.get_initrho()"
   ]
  },
  {
   "cell_type": "code",
   "execution_count": 29,
   "id": "896c438c",
   "metadata": {},
   "outputs": [
    {
     "name": "stdout",
     "output_type": "stream",
     "text": [
      "0.13716181349827491\n",
      "0.27432157709743227\n",
      "0.27432362699653123\n",
      "0.27432362699654983\n",
      "0.2743236269965508\n",
      "0.2743236269965499\n",
      "0.2743236269965489\n",
      "0.27432362699653123\n",
      "0.27432157709743227\n",
      "0.13716181349827491\n"
     ]
    }
   ],
   "source": [
    "my_particles.get_rho()"
   ]
  },
  {
   "cell_type": "code",
   "execution_count": 30,
   "id": "382758c1",
   "metadata": {},
   "outputs": [
    {
     "name": "stdout",
     "output_type": "stream",
     "text": [
      "1763.509030692106\n",
      "3526.991705538415\n",
      "3527.018061383973\n",
      "3527.018061384212\n",
      "3527.018061384224\n",
      "3527.0180613842126\n",
      "3527.0180613842\n",
      "3527.018061383973\n",
      "3526.991705538415\n",
      "1763.509030692106\n"
     ]
    }
   ],
   "source": [
    "my_particles.get_initpre()"
   ]
  },
  {
   "cell_type": "code",
   "execution_count": 31,
   "id": "2de273c0",
   "metadata": {},
   "outputs": [
    {
     "name": "stdout",
     "output_type": "stream",
     "text": [
      "1763.509030692106\n",
      "3526.991705538415\n",
      "3527.018061383973\n",
      "3527.018061384212\n",
      "3527.018061384224\n",
      "3527.0180613842126\n",
      "3527.0180613842\n",
      "3527.018061383973\n",
      "3526.991705538415\n",
      "1763.509030692106\n"
     ]
    }
   ],
   "source": [
    "my_particles.get_pre()"
   ]
  },
  {
   "cell_type": "code",
   "execution_count": 32,
   "id": "d0bdde2c",
   "metadata": {},
   "outputs": [
    {
     "name": "stdout",
     "output_type": "stream",
     "text": [
      "-2828.951315256079\n",
      "942.8968662330836\n",
      "0.0352318350095376\n",
      "2.110699581932573e-07\n",
      "-1.0573644846444275e-11\n",
      "1.579761542406057e-11\n",
      "-2.1107795293033802e-07\n",
      "-0.035231835006340056\n",
      "-942.8968662330835\n",
      "2828.951315256079\n"
     ]
    }
   ],
   "source": [
    "my_particles.get_accel()"
   ]
  },
  {
   "cell_type": "code",
   "execution_count": null,
   "id": "e7850a87",
   "metadata": {},
   "outputs": [],
   "source": []
  },
  {
   "cell_type": "code",
   "execution_count": null,
   "id": "0f5845bd",
   "metadata": {},
   "outputs": [],
   "source": []
  }
 ],
 "metadata": {
  "hide_input": false,
  "kernelspec": {
   "display_name": "Python 3 (ipykernel)",
   "language": "python",
   "name": "python3"
  },
  "language_info": {
   "codemirror_mode": {
    "name": "ipython",
    "version": 3
   },
   "file_extension": ".py",
   "mimetype": "text/x-python",
   "name": "python",
   "nbconvert_exporter": "python",
   "pygments_lexer": "ipython3",
   "version": "3.9.15"
  },
  "toc": {
   "base_numbering": 1,
   "nav_menu": {},
   "number_sections": true,
   "sideBar": true,
   "skip_h1_title": false,
   "title_cell": "Table of Contents",
   "title_sidebar": "Contents",
   "toc_cell": false,
   "toc_position": {},
   "toc_section_display": true,
   "toc_window_display": false
  },
  "varInspector": {
   "cols": {
    "lenName": 16,
    "lenType": 16,
    "lenVar": 40
   },
   "kernels_config": {
    "python": {
     "delete_cmd_postfix": "",
     "delete_cmd_prefix": "del ",
     "library": "var_list.py",
     "varRefreshCmd": "print(var_dic_list())"
    },
    "r": {
     "delete_cmd_postfix": ") ",
     "delete_cmd_prefix": "rm(",
     "library": "var_list.r",
     "varRefreshCmd": "cat(var_dic_list()) "
    }
   },
   "types_to_exclude": [
    "module",
    "function",
    "builtin_function_or_method",
    "instance",
    "_Feature"
   ],
   "window_display": false
  }
 },
 "nbformat": 4,
 "nbformat_minor": 5
}
