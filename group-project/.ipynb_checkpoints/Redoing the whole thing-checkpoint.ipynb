{
 "cells": [
  {
   "cell_type": "code",
   "execution_count": 1,
   "id": "d79541f2",
   "metadata": {},
   "outputs": [],
   "source": [
    "import numpy as np\n",
    "import random\n",
    "from matplotlib import pyplot as plt\n",
    "from matplotlib import animation"
   ]
  },
  {
   "cell_type": "code",
   "execution_count": 54,
   "id": "ea4db7a2",
   "metadata": {},
   "outputs": [],
   "source": [
    "class ParticleArray():\n",
    "    def __init__(self, n, dims, seed):\n",
    "        self.g = random.seed(seed)\n",
    "        self.lbound = dims[0]\n",
    "        self.ubound = dims[1]\n",
    "        self.llimit = dims[2]\n",
    "        self.ulimit = dims[3]\n",
    "        pPositions = []\n",
    "        for i in range(n):\n",
    "            pPositions.append(\n",
    "                [random.randrange(self.lbound, self.ubound),\n",
    "                 random.randrange(self.lbound, self.ubound),\n",
    "                 random.randrange(self.lbound, self.ubound)])\n",
    "        self.particles = [Particle(pPositions[i], [0, 0, 0], self.llimit, self.ulimit) for i in range(n)]\n",
    "\n",
    "    def get_position(self):\n",
    "        for particle in self.particles:\n",
    "            print(particle.get_position())\n",
    "    def get_direction(self):\n",
    "        for particle in self.particles:\n",
    "            print(particle.get_direction())"
   ]
  },
  {
   "cell_type": "code",
   "execution_count": 62,
   "id": "df7b7a5e",
   "metadata": {},
   "outputs": [],
   "source": [
    "class Particle():\n",
    "    def __init__(self, position, direction, llimit, ulimit):\n",
    "        self.p = position\n",
    "        self.d = direction\n",
    "        self.llimit = llimit\n",
    "        self.ulimit = ulimit\n",
    "        self.m = 1 \n",
    "        self.dt = 0.01 #s\n",
    "\n",
    "\n",
    "    def get_position(self):\n",
    "        return self.p\n",
    "    def get_direction(self):\n",
    "        return self.d\n",
    "    \n",
    "    def get_magnitude(self):\n",
    "        x, y, z = self.p\n",
    "        return ((x**2) + (y**2) + (z**2))**(1/2)\n",
    "        #return np.linalg.norm(self.p) This one works too"
   ]
  },
  {
   "cell_type": "code",
   "execution_count": null,
   "id": "a9fdcda7",
   "metadata": {},
   "outputs": [],
   "source": [
    "class PairwiseCalculator():\n",
    "    def __init__(self, particle1, particle2):\n",
    "        self.p1 = particle1\n",
    "        self.p2 = particle2\n",
    "        \n",
    "    def GausKern(self, h = 1):\n",
    "        "
   ]
  },
  {
   "cell_type": "code",
   "execution_count": 56,
   "id": "d04e8e90",
   "metadata": {},
   "outputs": [],
   "source": [
    "my_particles = ParticleArray(10, [0,10,0,20], 4)"
   ]
  },
  {
   "cell_type": "code",
   "execution_count": 57,
   "id": "29fc03f1",
   "metadata": {},
   "outputs": [
    {
     "name": "stdout",
     "output_type": "stream",
     "text": [
      "[3, 4, 1]\n",
      "[6, 7, 2]\n",
      "[1, 1, 0]\n",
      "[6, 8, 4]\n",
      "[0, 3, 8]\n",
      "[8, 5, 4]\n",
      "[2, 1, 4]\n",
      "[3, 0, 4]\n",
      "[4, 3, 2]\n",
      "[4, 4, 5]\n"
     ]
    }
   ],
   "source": [
    "my_particles.get_position()"
   ]
  },
  {
   "cell_type": "code",
   "execution_count": 61,
   "id": "cb92daa6",
   "metadata": {},
   "outputs": [
    {
     "name": "stdout",
     "output_type": "stream",
     "text": [
      "[0, 0, 0]\n",
      "[0, 0, 0]\n",
      "[0, 0, 0]\n",
      "[0, 0, 0]\n",
      "[0, 0, 0]\n",
      "[0, 0, 0]\n",
      "[0, 0, 0]\n",
      "[0, 0, 0]\n",
      "[0, 0, 0]\n",
      "[0, 0, 0]\n"
     ]
    }
   ],
   "source": [
    "my_particles.get_direction()"
   ]
  },
  {
   "cell_type": "code",
   "execution_count": 55,
   "id": "11422a66",
   "metadata": {},
   "outputs": [],
   "source": []
  },
  {
   "cell_type": "code",
   "execution_count": null,
   "id": "42343746",
   "metadata": {},
   "outputs": [],
   "source": []
  }
 ],
 "metadata": {
  "hide_input": false,
  "kernelspec": {
   "display_name": "Python 3 (ipykernel)",
   "language": "python",
   "name": "python3"
  },
  "language_info": {
   "codemirror_mode": {
    "name": "ipython",
    "version": 3
   },
   "file_extension": ".py",
   "mimetype": "text/x-python",
   "name": "python",
   "nbconvert_exporter": "python",
   "pygments_lexer": "ipython3",
   "version": "3.9.15"
  },
  "toc": {
   "base_numbering": 1,
   "nav_menu": {},
   "number_sections": true,
   "sideBar": true,
   "skip_h1_title": false,
   "title_cell": "Table of Contents",
   "title_sidebar": "Contents",
   "toc_cell": false,
   "toc_position": {},
   "toc_section_display": true,
   "toc_window_display": false
  },
  "varInspector": {
   "cols": {
    "lenName": 16,
    "lenType": 16,
    "lenVar": 40
   },
   "kernels_config": {
    "python": {
     "delete_cmd_postfix": "",
     "delete_cmd_prefix": "del ",
     "library": "var_list.py",
     "varRefreshCmd": "print(var_dic_list())"
    },
    "r": {
     "delete_cmd_postfix": ") ",
     "delete_cmd_prefix": "rm(",
     "library": "var_list.r",
     "varRefreshCmd": "cat(var_dic_list()) "
    }
   },
   "types_to_exclude": [
    "module",
    "function",
    "builtin_function_or_method",
    "instance",
    "_Feature"
   ],
   "window_display": false
  }
 },
 "nbformat": 4,
 "nbformat_minor": 5
}
