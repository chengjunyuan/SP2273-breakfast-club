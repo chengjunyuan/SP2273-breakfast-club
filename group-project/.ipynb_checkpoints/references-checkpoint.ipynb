{
 "cells": [
  {
   "cell_type": "markdown",
   "id": "6826201d",
   "metadata": {},
   "source": [
    "- https://en.wikipedia.org/wiki/Fluid_dynamics\n",
    "- https://pubmed.ncbi.nlm.nih.gov/34476751/\n",
    "- https://link.springer.com/chapter/10.1007/978-3-211-69356-8_1\n",
    "- https://www.dynamiq-eng.co.uk/pages/Fluid_mechanics_dynamics.php\n",
    "- https://arxiv.org/abs/1109.2219\n",
    "- https://phyweb.physics.nus.edu.sg/~bcf/\n",
    "- https://cde.nus.edu.sg/me/wp-content/uploads/sites/11/2019/02/Research-in-Computational-Fluid-Dynamics.pdf\n",
    "- https://en.wikipedia.org/wiki/Fluid_mechanics\n",
    "- http://pillars.che.pitt.edu/student/slide.cgi?course_id=10&slide_id=5.0\n",
    "- https://www.grc.nasa.gov/www/k-12/airplane/nseqs.html\n",
    "- https://en.wikipedia.org/wiki/Navier–Stokes_existence_and_smoothness\n",
    "- https://www.simscale.com/docs/simwiki/cfd-computational-fluid-dynamics/what-is-cfd-computational-fluid-dynamics/\n",
    "- https://arxiv.org/abs/1111.1259\n",
    "- https://pages.stat.wisc.edu/~mchung/teaching/MIA/reading/diffusion.gaussian.kernel.pdf.pdf\n",
    "- https://www.worldscientific.com/doi/pdf/10.1142/9789813223882_0001\n",
    "- https://pysph.readthedocs.io/en/latest/design/overview.html?highlight=dam%20break#the-dam-break-problem\n",
    "- https://sps.nus.edu.sg/sp2273/numerical-solutions-good.html#exercise-1-the-lorentz-attaractor\n",
    "\n",
    "imgs\n",
    "- https://www.grc.nasa.gov/www/k-12/airplane/Images/nseqs.gif\n",
    "- http://www.imagemet.com/WebHelp6/Content/Images/Gauss3D.png\n",
    "- https://en.wikipedia.org/wiki/N-body_problem\n",
    "- https://medium.com/swlh/create-your-own-n-body-simulation-with-python-f417234885e9\n",
    "\n",
    "code\n",
    "- https://jakevdp.github.io/blog/2012/08/18/matplotlib-animation-tutorial/\n",
    "- https://pmocz.github.io/manuscripts/pmocz_sph.pdf\n",
    "- https://iopscience.iop.org/article/10.1088/1742-6596/1985/1/012003/pdf"
   ]
  }
 ],
 "metadata": {
  "kernelspec": {
   "display_name": "Python 3 (ipykernel)",
   "language": "python",
   "name": "python3"
  },
  "language_info": {
   "codemirror_mode": {
    "name": "ipython",
    "version": 3
   },
   "file_extension": ".py",
   "mimetype": "text/x-python",
   "name": "python",
   "nbconvert_exporter": "python",
   "pygments_lexer": "ipython3",
   "version": "3.10.8"
  },
  "toc": {
   "base_numbering": 1,
   "nav_menu": {},
   "number_sections": true,
   "sideBar": true,
   "skip_h1_title": false,
   "title_cell": "Table of Contents",
   "title_sidebar": "Contents",
   "toc_cell": false,
   "toc_position": {},
   "toc_section_display": true,
   "toc_window_display": false
  },
  "varInspector": {
   "cols": {
    "lenName": 16,
    "lenType": 16,
    "lenVar": 40
   },
   "kernels_config": {
    "python": {
     "delete_cmd_postfix": "",
     "delete_cmd_prefix": "del ",
     "library": "var_list.py",
     "varRefreshCmd": "print(var_dic_list())"
    },
    "r": {
     "delete_cmd_postfix": ") ",
     "delete_cmd_prefix": "rm(",
     "library": "var_list.r",
     "varRefreshCmd": "cat(var_dic_list()) "
    }
   },
   "types_to_exclude": [
    "module",
    "function",
    "builtin_function_or_method",
    "instance",
    "_Feature"
   ],
   "window_display": false
  }
 },
 "nbformat": 4,
 "nbformat_minor": 5
}
