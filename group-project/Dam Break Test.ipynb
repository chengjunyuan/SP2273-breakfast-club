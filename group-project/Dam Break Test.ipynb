{
 "cells": [
  {
   "cell_type": "markdown",
   "id": "5b969945",
   "metadata": {},
   "source": [
    "This will be based completely on [dam break](https://pysph.readthedocs.io/en/latest/reference/particle_array.html#pysph.base.particle_array.ParticleArray) and [SPH paper](https://iopscience.iop.org/article/10.1088/1742-6596/1985/1/012003/pdf)"
   ]
  },
  {
   "cell_type": "markdown",
   "id": "c4b1c520",
   "metadata": {},
   "source": [
    "**Equation of state** is usually used to treat incompressible fluids as slightly compressible fluids (in incompressible flow, density is constant)\n",
    "Adopting the equation from [insert later]\n",
    "$$P(\\rho) = P_0((\\frac{\\rho}{\\rho_0})^\\gamma)-1)$$\n",
    "For fluids $\\gamma$ = 7  \n",
    "$P_0$ is the reference pressure"
   ]
  },
  {
   "cell_type": "markdown",
   "id": "f8876195",
   "metadata": {},
   "source": [
    "**Continuity equation** (fluid control), where a is the \"main particle\" and b are its neighboring particles.  \n",
    "$\\nabla_a W_ab$ is a smoothing kernel with respect to particle a\n",
    "$$ \\frac {d \\rho_a}{dt} = \\sum_{b=1}^N m_b (v_b - v_a) \\cdot \\nabla_a  W_{ab} $$"
   ]
  },
  {
   "cell_type": "markdown",
   "id": "002ffcb4",
   "metadata": {},
   "source": [
    "What the smoothing kernel does:  \n",
    "The effect that each neighboring particle has on the \"main\" particle is dependent on how far it is away.  The smoothing kernel assigns a weightage based on that distance."
   ]
  },
  {
   "cell_type": "markdown",
   "id": "7cf2a041",
   "metadata": {},
   "source": [
    "**Momentum Equation**\n",
    "$$ \\frac {d v_a}{dt} = - \\sum_{b, b \\neq a}^N m_b (\\frac {P_a}{\\rho^2_a} + \\frac {P_b}{\\rho^2_b} ) \\cdot \\nabla_a W_{ab} + B_a$$\n",
    "Wehre $B_a$ is the acceleration of particle $a$ due to external forces.  \n",
    "However, in the case of the dam break problem, there are no external forces, thus $B_a = 0 $"
   ]
  },
  {
   "cell_type": "markdown",
   "id": "e7a70fde",
   "metadata": {},
   "source": [
    "**Equation position** which allows for the calculation of the position of particle $a$  \n",
    "$$ \\frac {d x_a}{dt} = v_a $$"
   ]
  },
  {
   "cell_type": "markdown",
   "id": "bbe0e28b",
   "metadata": {},
   "source": [
    "For the dam break, we will be using particles to simulate the wall as well. This would mean that for \"neighboring walls\":  \n",
    "$$v_f \\cdot n_b = 0$$  \n",
    "Where $f$ represens a fluid particle and $b$ represents a boundary.  \n",
    "$n$ here refers to the normal vector of the boundary.  \n",
    "Since the particles are represented by a boundary, they would be subjected to the first 3 equations.  \n",
    "When particles reach closer to the boundary, the density increases and thus generates a repulsive force is generated on the fluid particles."
   ]
  },
  {
   "cell_type": "markdown",
   "id": "9a8d94bb",
   "metadata": {},
   "source": []
  }
 ],
 "metadata": {
  "hide_input": false,
  "kernelspec": {
   "display_name": "Python 3 (ipykernel)",
   "language": "python",
   "name": "python3"
  },
  "language_info": {
   "codemirror_mode": {
    "name": "ipython",
    "version": 3
   },
   "file_extension": ".py",
   "mimetype": "text/x-python",
   "name": "python",
   "nbconvert_exporter": "python",
   "pygments_lexer": "ipython3",
   "version": "3.9.15"
  },
  "toc": {
   "base_numbering": 1,
   "nav_menu": {},
   "number_sections": true,
   "sideBar": true,
   "skip_h1_title": false,
   "title_cell": "Table of Contents",
   "title_sidebar": "Contents",
   "toc_cell": false,
   "toc_position": {},
   "toc_section_display": true,
   "toc_window_display": false
  },
  "varInspector": {
   "cols": {
    "lenName": 16,
    "lenType": 16,
    "lenVar": 40
   },
   "kernels_config": {
    "python": {
     "delete_cmd_postfix": "",
     "delete_cmd_prefix": "del ",
     "library": "var_list.py",
     "varRefreshCmd": "print(var_dic_list())"
    },
    "r": {
     "delete_cmd_postfix": ") ",
     "delete_cmd_prefix": "rm(",
     "library": "var_list.r",
     "varRefreshCmd": "cat(var_dic_list()) "
    }
   },
   "types_to_exclude": [
    "module",
    "function",
    "builtin_function_or_method",
    "instance",
    "_Feature"
   ],
   "window_display": false
  }
 },
 "nbformat": 4,
 "nbformat_minor": 5
}
