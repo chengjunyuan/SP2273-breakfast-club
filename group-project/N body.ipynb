{
 "cells": [
  {
   "cell_type": "markdown",
   "metadata": {},
   "source": [
    "this function takes in a array \n",
    "[[m1, x1 coordinate, y1 coordinate, z1 coordinate, x1 velocity, y1 velocity, z1 velocity],\n",
    " [m2, x2 coordinate, y2 coordinate, z2 coordinate, x2 velocity, y2 velocity, z2 velocity],\n",
    " ...]\n",
    " \n",
    " n is number of particle, which equals to length of the array "
   ]
  },
  {
   "cell_type": "code",
   "execution_count": 4,
   "metadata": {},
   "outputs": [],
   "source": [
    "import numpy as np \n",
    "import matplotlib.pyplot as plt\n",
    "# this function update the coordinates and velocities of all particles \n",
    "def update_particles(particles,t):\n",
    "    G=1\n",
    "    n=len(particles)\n",
    "    mass=np.array([particles[i,0] for i in range(n)])\n",
    "    coordinates=np.array([particles[i,1:4] for i in range(n)])\n",
    "    velocity=np.array([particles[i,4:7] for i in range(n)])\n",
    "    # calculate acceleration when looking at interaction between the mth and nth particle \n",
    "    def acceleration_between_2_points(m,n):\n",
    "        return mass[m]*(coordinates[m]-coordinates[n])/(np.sqrt(sum((coordinates[m]-coordinates[n])**2)))**3\n",
    "\n",
    "    # calculate acceleration for the mth particle taking all other particles into consideration \n",
    "    def get_acceleration(m):\n",
    "        other_indices = list(range(n))\n",
    "        other_indices.remove(m)\n",
    "        acceleration=np.array([0,0,0,0,0,0,0])\n",
    "        for i in other_indices:\n",
    "            acceleration += acceleration_between_2_points(m,i)\n",
    "        return acceleration \n",
    "\n",
    "    # generate array storig acceleration \n",
    "    acceleration_array=np.array([get_acceleration(i) for i in range(n)])\n",
    "\n",
    "    # generate array storing change in velocity \n",
    "    final_velocity_array=velocity+acceleration_array*t\n",
    "    \n",
    "    # generate array storing displacement \n",
    "    displacement_array=velocity*t+0.5*acceleration_array*t**2\n",
    "    \n",
    "    # update coordinates \n",
    "    particles[:,1:4] += displacement_array\n",
    "\n",
    "    # update velocity \n",
    "    particles[:,4:7] = final_velocity_array \n",
    "    \n",
    "    # return the updated particles \n",
    "    return particles \n",
    "\n",
    "\n",
    "def plot_n_body(particles, accuracy, time)\n",
    "# particles: a 2D list storing all the infomation of the particles \n",
    "# accuracy: delta t\n",
    "# time: total length of time that pass \n",
    "    data_list=[]\n",
    "    n=len(particles)\n",
    "    iteration_no=int(time/accuracy)\n",
    "\n",
    "    # 1: data generation, expected out put is data_list, a 3D array \n",
    "    for i in range(iteration_no):\n",
    "        # 1.1: stroing particles information \n",
    "        data.append(particles[:,1:4])\n",
    "        # 1.2: update particles information \n",
    "        particles=update_particles(particles, accuracy)\n",
    "    np.array(data_list)\n",
    "\n",
    "    # 2: plotting \n",
    "    ax = plt.axes(projection='3d')\n",
    "    for i in range(n):\n",
    "        x=data_list[:,i,0]\n",
    "        y=data_list[:,i,1]\n",
    "        z=data_list[:,i,2]\n",
    "        ax.plot3D(x, y, z)\n",
    "    plt.show()"
   ]
  },
  {
   "cell_type": "code",
   "execution_count": 6,
   "metadata": {},
   "outputs": [
    {
     "name": "stdout",
     "output_type": "stream",
     "text": [
      "[array([[1, 2, 3],\n",
      "       [4, 5, 6],\n",
      "       [7, 8, 9]]), array([[1, 2, 3],\n",
      "       [4, 5, 6],\n",
      "       [7, 8, 9]])]\n"
     ]
    }
   ],
   "source": [
    "import numpy as np\n",
    "a=np.array([[1,2,3],\n",
    "            [4,5,6],\n",
    "            [7,8,9]])\n",
    "b=np.array([[1,2,3],\n",
    "            [4,5,6],\n",
    "            [7,8,9]])\n",
    "\n",
    "a_and_b=[]\n",
    "a_and_b.append(a)\n",
    "a_and_b.append(b)\n",
    "print (a_and_b)"
   ]
  }
 ],
 "metadata": {
  "kernelspec": {
   "display_name": "Python 3 (ipykernel)",
   "language": "python",
   "name": "python3"
  },
  "language_info": {
   "codemirror_mode": {
    "name": "ipython",
    "version": 3
   },
   "file_extension": ".py",
   "mimetype": "text/x-python",
   "name": "python",
   "nbconvert_exporter": "python",
   "pygments_lexer": "ipython3",
   "version": "3.11.0"
  }
 },
 "nbformat": 4,
 "nbformat_minor": 2
}
