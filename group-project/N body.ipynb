{
 "cells": [
  {
   "cell_type": "markdown",
   "metadata": {},
   "source": [
    "this function takes in a array \n",
    "[[m1, x1 coordinate, y1 coordinate, z1 coordinate, x1 velocity, y1 velocity, z1 velocity],\n",
    " [m2, x2 coordinate, y2 coordinate, z2 coordinate, x2 velocity, y2 velocity, z2 velocity],\n",
    " ...]\n",
    " \n",
    " n is number of particle, which equals to length of the array "
   ]
  },
  {
   "cell_type": "code",
   "execution_count": 32,
   "metadata": {},
   "outputs": [],
   "source": [
    "import numpy as np \n",
    "import matplotlib.pyplot as plt\n",
    "# this function update the coordinates and velocities of all particles \n",
    "def update_particles(particles,t):\n",
    "    G=1\n",
    "    n=len(particles)\n",
    "    mass=np.array([particles[i,0] for i in range(n)])\n",
    "    coordinates=np.array([particles[i,1:4] for i in range(n)])\n",
    "    velocity=np.array([particles[i,4:7] for i in range(n)])\n",
    "    # calculate acceleration when looking at interaction between the mth and nth particle \n",
    "    def acceleration_between_2_points(m,n):\n",
    "        return mass[m]*(coordinates[m]-coordinates[n])/(np.sqrt(sum((coordinates[m]-coordinates[n])**2)))**3\n",
    "\n",
    "    # calculate acceleration for the mth particle taking all other particles into consideration \n",
    "    def get_acceleration(m):\n",
    "        other_indices = list(range(n))\n",
    "        other_indices.remove(m)\n",
    "        acceleration=np.zeros((3))\n",
    "        for i in other_indices:\n",
    "            acceleration += acceleration_between_2_points(m,i)\n",
    "        return acceleration \n",
    "\n",
    "    # generate array storig acceleration \n",
    "    acceleration_array=np.array([get_acceleration(i) for i in range(n)])\n",
    "\n",
    "    # generate array storing change in velocity \n",
    "    final_velocity_array=velocity+acceleration_array*t\n",
    "    \n",
    "    # generate array storing displacement \n",
    "    displacement_array=velocity*t+0.5*acceleration_array*t**2\n",
    "    \n",
    "    # update coordinates \n",
    "    particles[:,1:4] += displacement_array\n",
    "\n",
    "    # update velocity \n",
    "    particles[:,4:7] = final_velocity_array \n",
    "    \n",
    "    # return the updated particles \n",
    "    return particles \n",
    "\n",
    "\n",
    "def plot_n_body(particles, accuracy, time):\n",
    "# particles: a 2D list storing all the infomation of the particles \n",
    "# accuracy: delta t\n",
    "# time: total length of time that pass \n",
    "    data_list=[]\n",
    "    n=len(particles)\n",
    "    iteration_no=int(time/accuracy)\n",
    "\n",
    "    # 1: data generation, expected out put is data_list, a 3D array \n",
    "    for i in range(iteration_no):\n",
    "        # 1.1: stroing particles information \n",
    "        data_list.append(particles[:,1:4].copy())\n",
    "        # 1.2: update particles information \n",
    "        particles=update_particles(particles, accuracy)\n",
    "    data_list=np.array(data_list)\n",
    "\n",
    "    # 2: plotting \n",
    "    ax = plt.axes(projection='3d')\n",
    "    for i in range(n):\n",
    "        x=data_list[:,i,0]\n",
    "        y=data_list[:,i,1]\n",
    "        z=data_list[:,i,2]\n",
    "        ax.plot3D(x, y, z)\n",
    "    plt.show()"
   ]
  },
  {
   "cell_type": "code",
   "execution_count": 1,
   "metadata": {
    "scrolled": true
   },
   "outputs": [
    {
     "ename": "NameError",
     "evalue": "name 'plot_n_body' is not defined",
     "output_type": "error",
     "traceback": [
      "\u001b[0;31m---------------------------------------------------------------------------\u001b[0m",
      "\u001b[0;31mNameError\u001b[0m                                 Traceback (most recent call last)",
      "Cell \u001b[0;32mIn[1], line 4\u001b[0m\n\u001b[1;32m      1\u001b[0m particles\u001b[38;5;241m=\u001b[39mnp\u001b[38;5;241m.\u001b[39marray([[\u001b[38;5;241m1\u001b[39m,\u001b[38;5;241m0.3\u001b[39m,\u001b[38;5;241m0.4\u001b[39m,\u001b[38;5;241m0.3\u001b[39m,\u001b[38;5;241m0.1\u001b[39m,\u001b[38;5;241m0.6\u001b[39m,\u001b[38;5;241m0.1\u001b[39m],\n\u001b[1;32m      2\u001b[0m                     [\u001b[38;5;241m1\u001b[39m,\u001b[38;5;241m0.4\u001b[39m,\u001b[38;5;241m0.7\u001b[39m,\u001b[38;5;241m0.1\u001b[39m,\u001b[38;5;241m0.8\u001b[39m,\u001b[38;5;241m0.9\u001b[39m,\u001b[38;5;241m0.1\u001b[39m],\n\u001b[1;32m      3\u001b[0m                    ])\n\u001b[0;32m----> 4\u001b[0m \u001b[43mplot_n_body\u001b[49m(particles, \u001b[38;5;241m0.01\u001b[39m, \u001b[38;5;241m100\u001b[39m)\n",
      "\u001b[0;31mNameError\u001b[0m: name 'plot_n_body' is not defined"
     ]
    }
   ],
   "source": [
    "particles=np.array([[1,0.3,0.4,0.3,0.1,0.6,0.1],\n",
    "                    [1,0.4,0.7,0.1,0.8,0.9,0.1],\n",
    "                   ])\n",
    "plot_n_body(particles, 0.01, 4)"
   ]
  },
  {
   "cell_type": "code",
   "execution_count": null,
   "metadata": {},
   "outputs": [],
   "source": []
  }
 ],
 "metadata": {
  "kernelspec": {
   "display_name": "Python 3 (ipykernel)",
   "language": "python",
   "name": "python3"
  },
  "language_info": {
   "codemirror_mode": {
    "name": "ipython",
    "version": 3
   },
   "file_extension": ".py",
   "mimetype": "text/x-python",
   "name": "python",
   "nbconvert_exporter": "python",
   "pygments_lexer": "ipython3",
   "version": "3.10.8"
  },
  "toc": {
   "base_numbering": 1,
   "nav_menu": {},
   "number_sections": true,
   "sideBar": true,
   "skip_h1_title": false,
   "title_cell": "Table of Contents",
   "title_sidebar": "Contents",
   "toc_cell": false,
   "toc_position": {},
   "toc_section_display": true,
   "toc_window_display": false
  },
  "varInspector": {
   "cols": {
    "lenName": 16,
    "lenType": 16,
    "lenVar": 40
   },
   "kernels_config": {
    "python": {
     "delete_cmd_postfix": "",
     "delete_cmd_prefix": "del ",
     "library": "var_list.py",
     "varRefreshCmd": "print(var_dic_list())"
    },
    "r": {
     "delete_cmd_postfix": ") ",
     "delete_cmd_prefix": "rm(",
     "library": "var_list.r",
     "varRefreshCmd": "cat(var_dic_list()) "
    }
   },
   "types_to_exclude": [
    "module",
    "function",
    "builtin_function_or_method",
    "instance",
    "_Feature"
   ],
   "window_display": false
  }
 },
 "nbformat": 4,
 "nbformat_minor": 2
}
