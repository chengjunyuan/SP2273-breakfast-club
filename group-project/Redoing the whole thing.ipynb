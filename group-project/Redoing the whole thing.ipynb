{
 "cells": [
  {
   "cell_type": "code",
   "execution_count": 118,
   "id": "3d0b0152",
   "metadata": {},
   "outputs": [],
   "source": [
    "import numpy as np\n",
    "import random\n",
    "from matplotlib import pyplot as plt\n",
    "from matplotlib import animation"
   ]
  },
  {
   "cell_type": "code",
   "execution_count": 131,
   "id": "23e395d5",
   "metadata": {
    "code_folding": []
   },
   "outputs": [],
   "source": [
    "class particle_array():\n",
    "    def __init__(self, n, dims, seed):\n",
    "        self.g = random.seed(seed)\n",
    "        self.lbound = dims[0]\n",
    "        self.ubound = dims[1]\n",
    "        self.llimit = dims[2]\n",
    "        self.ulimit = dims[3]\n",
    "        self.particles = [particle([random.randrange(self.lbound, self.ubound),\n",
    "                                    random.randrange(self.lbound, self.ubound),\n",
    "                                    random.randrange(self.lbound, self.ubound)], \n",
    "                                   [0, 0, 0], \n",
    "                                   self.llimit, \n",
    "                                   self.ulimit) for i in range(n)]\n",
    "        for particle_1 in self.particles:\n",
    "            total = 0\n",
    "            for particle_2 in self.particles:\n",
    "                if id(particle_1) != id(particle_2):\n",
    "                    total += particle_2.m * pairwise_calculator(particle_1, particle_2).gaus_kern()\n",
    "            particle_1.initrho = total\n",
    "            particle_1.rho = total\n",
    "            particle_1.initpre = (100 * particle_1.initrho * (particle_1.vmax ** 2))/7\n",
    "            particle_1.pre = (100 * particle_1.initrho * (particle_1.vmax ** 2))/7\n",
    "        self.calc_accel()\n",
    "        self.calc_veloc()\n",
    "            \n",
    "    def get_position(self):\n",
    "        for particle in self.particles:\n",
    "            print(particle.p)\n",
    "    def get_direction(self):\n",
    "        for particle in self.particles:\n",
    "            print(particle.d)\n",
    "    def get_initrho(self):\n",
    "        for particle in self.particles:\n",
    "            print(particle.initrho)\n",
    "    def get_initpre(self):\n",
    "        for particle in self.particles:\n",
    "            print(particle.initpre)\n",
    "    def get_rho(self):\n",
    "        for particle in self.particles:\n",
    "            print(particle.rho)\n",
    "    def get_pre(self):\n",
    "        for particle in self.particles:\n",
    "            print(particle.pre)\n",
    "    def get_accel(self):\n",
    "        for particle in self.particles:\n",
    "            print(particle.a)\n",
    "    def get_veloc(self):\n",
    "        for particle in self.particles:\n",
    "            print(particle.d)\n",
    "            \n",
    "    def calc_accel(self):\n",
    "        for particle_1 in self.particles:\n",
    "            total = 0\n",
    "            for particle_2 in self.particles:\n",
    "                if id(particle_1) != id(particle_2):\n",
    "                    total += (particle_2.m)*\\\n",
    "                    ((particle_1.pre / (particle_1.rho ** 2)) + (particle_2.pre / (particle_2.rho ** 2))) *\\\n",
    "                    (pairwise_calculator(particle_1, particle_2).dgaus_kern())\n",
    "            particle_1.a = -total\n",
    "            \n",
    "    def calc_veloc(self):\n",
    "        for particle in self.particles:\n",
    "            for i in range(3):\n",
    "                if i == 2:\n",
    "                    potential_speed = (particle.dt * particle.a) - (particle.dt * particle.g)\n",
    "                    if potential_speed + particle.d[i] > particle.vmax:\n",
    "                        particle.d[i] = particle.vmax\n",
    "                    elif potential_speed + particle.d[i] < -particle.vmax:\n",
    "                        particle.d[i] = -particle.vmax\n",
    "                    else:\n",
    "                        particle.d[i] += potential_speed\n",
    "                else:\n",
    "                    potential_speed = (particle.dt * particle.a)\n",
    "                    if potential_speed + particle.d[i] > particle.vmax:\n",
    "                        particle.d[i] = particle.vmax\n",
    "                    elif potential_speed + particle.d[i] < -particle.vmax:\n",
    "                        particle.d[i] = -particle.vmax\n",
    "                    else:\n",
    "                        particle.d[i] += potential_speed\n",
    "                        \n",
    "    def move(self):\n",
    "        for particle in self.particles:\n",
    "            "
   ]
  },
  {
   "cell_type": "code",
   "execution_count": 132,
   "id": "1eaf3cf0",
   "metadata": {},
   "outputs": [],
   "source": [
    "class particle():\n",
    "    def __init__(self, position, direction, llimit, ulimit):\n",
    "        self.p = position\n",
    "        self.d = direction\n",
    "        self.llimit = llimit\n",
    "        self.ulimit = ulimit\n",
    "        self.m = 1\n",
    "        self.dt = 0.01 #s\n",
    "        self.initrho = 0\n",
    "        self.rho = 0\n",
    "        self.initpre = 0\n",
    "        self.pre = 0\n",
    "        self.vmax = 30\n",
    "        self.a = 0\n",
    "        self.g = 9.81\n",
    "    \n",
    "    def get_magnitude(self):\n",
    "        x, y, z = self.p\n",
    "        return ((x**2) + (y**2) + (z**2))**(1/2)\n",
    "        #return np.linalg.norm(self.p) This one works too"
   ]
  },
  {
   "cell_type": "code",
   "execution_count": 133,
   "id": "84f549cf",
   "metadata": {},
   "outputs": [],
   "source": [
    "class pairwise_calculator():\n",
    "    def __init__(self, particle1, particle2):\n",
    "        self.p1 = particle1\n",
    "        self.p2 = particle2\n",
    "        \n",
    "    def gaus_kern(self, h = 1, d = 3):\n",
    "        mag_1 = self.p1.get_magnitude()\n",
    "        mag_2 = self.p2.get_magnitude()\n",
    "        delta_mag = mag_1 - mag_2\n",
    "        return ((1 / h*(np.pi**(1/2)))**d) * (np.e**(-(delta_mag**2) / (h**2)))\n",
    "    \n",
    "    def dgaus_kern(self, h = 1, d = 3):\n",
    "        mag_1 = self.p1.get_magnitude()\n",
    "        mag_2 = self.p2.get_magnitude()\n",
    "        delta_mag = mag_1 - mag_2\n",
    "        return -((2*np.e**(-(delta_mag**2) / (h**2)))*(delta_mag)) / ((h**5)*(np.pi*(3/2)))"
   ]
  },
  {
   "cell_type": "code",
   "execution_count": 134,
   "id": "5af83b3b",
   "metadata": {
    "scrolled": true
   },
   "outputs": [],
   "source": [
    "my_particles = particle_array(10, [0,10,0,20], 5)"
   ]
  },
  {
   "cell_type": "code",
   "execution_count": 135,
   "id": "38fef06b",
   "metadata": {},
   "outputs": [
    {
     "name": "stdout",
     "output_type": "stream",
     "text": [
      "[9, 4, 5]\n",
      "[8, 0, 7]\n",
      "[3, 0, 2]\n",
      "[1, 5, 7]\n",
      "[3, 6, 8]\n",
      "[1, 9, 3]\n",
      "[0, 3, 6]\n",
      "[4, 2, 6]\n",
      "[2, 1, 2]\n",
      "[9, 9, 7]\n"
     ]
    }
   ],
   "source": [
    "my_particles.get_position()"
   ]
  },
  {
   "cell_type": "code",
   "execution_count": 136,
   "id": "67edced6",
   "metadata": {
    "scrolled": true
   },
   "outputs": [
    {
     "name": "stdout",
     "output_type": "stream",
     "text": [
      "[-21.925347316223824, -21.925347316223824, -22.023447316223823]\n",
      "[0.9595136768852516, 0.9595136768852516, 0.8614136768852516]\n",
      "[11.86131256111777, 11.86131256111777, 11.76321256111777]\n",
      "[-1.6286908984971715, -1.6286908984971715, -1.7267908984971716]\n",
      "[-0.44261054196080035, -0.44261054196080035, -0.5407105419608004]\n",
      "[-2.2647396288140134, -2.2647396288140134, -2.3628396288140134]\n",
      "[-13.70396414191226, -13.70396414191226, -13.802064141912261]\n",
      "[4.667284209673222, 4.667284209673222, 4.569184209673223]\n",
      "[-11.867872993058818, -11.867872993058818, -11.965972993058818]\n",
      "[30, 30, 30]\n"
     ]
    }
   ],
   "source": [
    "my_particles.get_direction()"
   ]
  },
  {
   "cell_type": "code",
   "execution_count": 137,
   "id": "b8ca244b",
   "metadata": {},
   "outputs": [
    {
     "name": "stdout",
     "output_type": "stream",
     "text": [
      "9.143174998232535\n",
      "11.867403458197462\n",
      "3.8593473173210358\n",
      "4.455676523924033\n",
      "11.94067718115041\n",
      "7.397800942233391\n",
      "3.179014260308342\n",
      "4.529579328536242\n",
      "3.858984336907222\n",
      "3.227689922292964e-05\n"
     ]
    }
   ],
   "source": [
    "my_particles.get_initrho()"
   ]
  },
  {
   "cell_type": "code",
   "execution_count": 138,
   "id": "896c438c",
   "metadata": {},
   "outputs": [
    {
     "name": "stdout",
     "output_type": "stream",
     "text": [
      "9.143174998232535\n",
      "11.867403458197462\n",
      "3.8593473173210358\n",
      "4.455676523924033\n",
      "11.94067718115041\n",
      "7.397800942233391\n",
      "3.179014260308342\n",
      "4.529579328536242\n",
      "3.858984336907222\n",
      "3.227689922292964e-05\n"
     ]
    }
   ],
   "source": [
    "my_particles.get_rho()"
   ]
  },
  {
   "cell_type": "code",
   "execution_count": 139,
   "id": "382758c1",
   "metadata": {},
   "outputs": [
    {
     "name": "stdout",
     "output_type": "stream",
     "text": [
      "117555.10712013258\n",
      "152580.90160539592\n",
      "49620.1797941276\n",
      "57287.269593308985\n",
      "153522.9923290767\n",
      "95114.58354300074\n",
      "40873.040489678686\n",
      "58237.44850975168\n",
      "49615.51290309285\n",
      "0.41498870429480966\n"
     ]
    }
   ],
   "source": [
    "my_particles.get_initpre()"
   ]
  },
  {
   "cell_type": "code",
   "execution_count": 140,
   "id": "2de273c0",
   "metadata": {},
   "outputs": [
    {
     "name": "stdout",
     "output_type": "stream",
     "text": [
      "117555.10712013258\n",
      "152580.90160539592\n",
      "49620.1797941276\n",
      "57287.269593308985\n",
      "153522.9923290767\n",
      "95114.58354300074\n",
      "40873.040489678686\n",
      "58237.44850975168\n",
      "49615.51290309285\n",
      "0.41498870429480966\n"
     ]
    }
   ],
   "source": [
    "my_particles.get_pre()"
   ]
  },
  {
   "cell_type": "code",
   "execution_count": 141,
   "id": "d0bdde2c",
   "metadata": {},
   "outputs": [
    {
     "name": "stdout",
     "output_type": "stream",
     "text": [
      "-2192.5347316223824\n",
      "95.95136768852515\n",
      "1186.131256111777\n",
      "-162.86908984971714\n",
      "-44.26105419608003\n",
      "-226.47396288140135\n",
      "-1370.396414191226\n",
      "466.7284209673222\n",
      "-1186.7872993058818\n",
      "3434.511507279065\n"
     ]
    }
   ],
   "source": [
    "my_particles.get_accel()"
   ]
  },
  {
   "cell_type": "code",
   "execution_count": null,
   "id": "a97aba1b",
   "metadata": {},
   "outputs": [],
   "source": []
  },
  {
   "cell_type": "code",
   "execution_count": null,
   "id": "6506e4ce",
   "metadata": {},
   "outputs": [],
   "source": []
  }
 ],
 "metadata": {
  "hide_input": false,
  "kernelspec": {
   "display_name": "Python 3 (ipykernel)",
   "language": "python",
   "name": "python3"
  },
  "language_info": {
   "codemirror_mode": {
    "name": "ipython",
    "version": 3
   },
   "file_extension": ".py",
   "mimetype": "text/x-python",
   "name": "python",
   "nbconvert_exporter": "python",
   "pygments_lexer": "ipython3",
   "version": "3.9.15"
  },
  "toc": {
   "base_numbering": 1,
   "nav_menu": {},
   "number_sections": true,
   "sideBar": true,
   "skip_h1_title": false,
   "title_cell": "Table of Contents",
   "title_sidebar": "Contents",
   "toc_cell": false,
   "toc_position": {},
   "toc_section_display": true,
   "toc_window_display": false
  },
  "varInspector": {
   "cols": {
    "lenName": 16,
    "lenType": 16,
    "lenVar": 40
   },
   "kernels_config": {
    "python": {
     "delete_cmd_postfix": "",
     "delete_cmd_prefix": "del ",
     "library": "var_list.py",
     "varRefreshCmd": "print(var_dic_list())"
    },
    "r": {
     "delete_cmd_postfix": ") ",
     "delete_cmd_prefix": "rm(",
     "library": "var_list.r",
     "varRefreshCmd": "cat(var_dic_list()) "
    }
   },
   "types_to_exclude": [
    "module",
    "function",
    "builtin_function_or_method",
    "instance",
    "_Feature"
   ],
   "window_display": false
  }
 },
 "nbformat": 4,
 "nbformat_minor": 5
}
