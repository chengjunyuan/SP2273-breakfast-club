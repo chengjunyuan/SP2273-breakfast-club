{
 "cells": [
  {
   "cell_type": "code",
   "execution_count": 1,
   "id": "3d0b0152",
   "metadata": {},
   "outputs": [],
   "source": [
    "import numpy as np\n",
    "import random\n",
    "from matplotlib import pyplot as plt\n",
    "from matplotlib import animation"
   ]
  },
  {
   "cell_type": "code",
   "execution_count": 152,
   "id": "23e395d5",
   "metadata": {
    "code_folding": []
   },
   "outputs": [
    {
     "ename": "SyntaxError",
     "evalue": "invalid syntax (2580885410.py, line 58)",
     "output_type": "error",
     "traceback": [
      "\u001b[1;36m  File \u001b[1;32m\"C:\\Users\\Chin Zhen Jie\\AppData\\Local\\Temp\\ipykernel_244\\2580885410.py\"\u001b[1;36m, line \u001b[1;32m58\u001b[0m\n\u001b[1;33m    for particle in self.particles\u001b[0m\n\u001b[1;37m                                  ^\u001b[0m\n\u001b[1;31mSyntaxError\u001b[0m\u001b[1;31m:\u001b[0m invalid syntax\n"
     ]
    }
   ],
   "source": [
    "class particle_array():\n",
    "    def __init__(self, n, dims, seed):\n",
    "        self.g = random.seed(seed)\n",
    "        self.lbound = dims[0]\n",
    "        self.ubound = dims[1]\n",
    "        self.llimit = dims[2]\n",
    "        self.ulimit = dims[3]\n",
    "        self.particles = [particle([random.randrange(self.lbound, self.ubound),\n",
    "                                    random.randrange(self.lbound, self.ubound),\n",
    "                                    random.randrange(self.lbound, self.ubound)], \n",
    "                                   [0, 0, 0], \n",
    "                                   self.llimit, \n",
    "                                   self.ulimit) for i in range(n)]\n",
    "        for particle_1 in self.particles:\n",
    "            total = 0\n",
    "            for particle_2 in self.particles:\n",
    "                if id(particle_1) != id(particle_2):\n",
    "                    total += particle_1.m * pairwise_calculator(particle_1, particle_2).gaus_kern()\n",
    "            particle_1.initrho = total\n",
    "            particle_1.rho = total\n",
    "            particle_1.initpre =  (100 * particle1.initrho * (particle1.vmax ** 2))/7\n",
    "            particle_1.pre = (100 * particle_1.initrho * (particle_1.vmax ** 2))/7\n",
    "        self.calc_accel()\n",
    "            \n",
    "    def get_position(self):\n",
    "        for particle in self.particles:\n",
    "            print(particle.p)\n",
    "    def get_direction(self):\n",
    "        for particle in self.particles:\n",
    "            print(particle.d)\n",
    "    def get_initrho(self):\n",
    "        for particle in self.particles:\n",
    "            print(particle.initrho)\n",
    "    def get_initpre(self):\n",
    "        for particle in self.particles:\n",
    "            print(particle.initpre)\n",
    "    def get_rho(self):\n",
    "        for particle in self.particles:\n",
    "            print(particle.rho)\n",
    "    def get_pre(self):\n",
    "        for particle in self.particles:\n",
    "            print(particle.pre)\n",
    "    def get_accel(self):\n",
    "        for particle in self.particles:\n",
    "            print(particle.a)\n",
    "            \n",
    "    def calc_accel(self):\n",
    "        for particle_1 in self.particles:\n",
    "            total = 0\n",
    "            for particle_2 in self.particles:\n",
    "                if id(particle_1) != id(particle_2):\n",
    "                    total += particle1.m *\\\n",
    "                    ((particle_1.pre / (particle_1.rho ** 2)) + (particle_2.pre / (particle_2.rho ** 2))) *\\\n",
    "                    pairwise_calculator(particle_1, particle_2).dgaus_kern()\n",
    "            particle1.a = -total\n",
    "            \n",
    "    def calc_veloc(self):\n",
    "        for particle in self.particles:\n",
    "            "
   ]
  },
  {
   "cell_type": "code",
   "execution_count": 153,
   "id": "1eaf3cf0",
   "metadata": {},
   "outputs": [],
   "source": [
    "class particle():\n",
    "    def __init__(self, position, direction, llimit, ulimit):\n",
    "        self.p = position\n",
    "        self.d = direction\n",
    "        self.llimit = llimit\n",
    "        self.ulimit = ulimit\n",
    "        self.m = 1 \n",
    "        self.dt = 0.01 #s\n",
    "        self.initrho = 0\n",
    "        self.rho = 0\n",
    "        self.initpre = 0\n",
    "        self.pre = 0\n",
    "        self.vmax = 10\n",
    "        self.a = 0\n",
    "    \n",
    "    def get_magnitude(self):\n",
    "        x, y, z = self.p\n",
    "        return ((x**2) + (y**2) + (z**2))**(1/2)\n",
    "        #return np.linalg.norm(self.p) This one works too"
   ]
  },
  {
   "cell_type": "code",
   "execution_count": 183,
   "id": "84f549cf",
   "metadata": {},
   "outputs": [],
   "source": [
    "class pairwise_calculator():\n",
    "    def __init__(self, particle1, particle2):\n",
    "        self.p1 = particle1\n",
    "        self.p2 = particle2\n",
    "        \n",
    "    def gaus_kern(self, h = 0.1, d = 3):\n",
    "        mag_1 = self.p1.get_magnitude()\n",
    "        mag_2 = self.p2.get_magnitude()\n",
    "        delta_mag = mag_1 - mag_2\n",
    "        return ((1 / h*(np.pi**(1/2)))**d) * (np.e**(-(delta_mag**2) / (h**2)))\n",
    "    \n",
    "    def dgaus_kern(self, h = 0.1, d = 3):\n",
    "        mag_1 = self.p1.get_magnitude()\n",
    "        mag_2 = self.p2.get_magnitude()\n",
    "        delta_mag = mag_1 - mag_2\n",
    "        return -((2*np.e**(-(delta_mag**2) / (h**2)))*(delta_mag)) / ((h**5)*(np.pi*(3/2)))"
   ]
  },
  {
   "cell_type": "code",
   "execution_count": 184,
   "id": "5af83b3b",
   "metadata": {
    "scrolled": true
   },
   "outputs": [
    {
     "ename": "ZeroDivisionError",
     "evalue": "float division by zero",
     "output_type": "error",
     "traceback": [
      "\u001b[1;31m---------------------------------------------------------------------------\u001b[0m",
      "\u001b[1;31mZeroDivisionError\u001b[0m                         Traceback (most recent call last)",
      "\u001b[1;32m~\\AppData\\Local\\Temp\\ipykernel_244\\1097201581.py\u001b[0m in \u001b[0;36m<module>\u001b[1;34m\u001b[0m\n\u001b[1;32m----> 1\u001b[1;33m \u001b[0mmy_particles\u001b[0m \u001b[1;33m=\u001b[0m \u001b[0mparticle_array\u001b[0m\u001b[1;33m(\u001b[0m\u001b[1;36m10\u001b[0m\u001b[1;33m,\u001b[0m \u001b[1;33m[\u001b[0m\u001b[1;36m0\u001b[0m\u001b[1;33m,\u001b[0m\u001b[1;36m10\u001b[0m\u001b[1;33m,\u001b[0m\u001b[1;36m0\u001b[0m\u001b[1;33m,\u001b[0m\u001b[1;36m20\u001b[0m\u001b[1;33m]\u001b[0m\u001b[1;33m,\u001b[0m \u001b[1;36m5\u001b[0m\u001b[1;33m)\u001b[0m\u001b[1;33m\u001b[0m\u001b[1;33m\u001b[0m\u001b[0m\n\u001b[0m",
      "\u001b[1;32m~\\AppData\\Local\\Temp\\ipykernel_244\\393558789.py\u001b[0m in \u001b[0;36m__init__\u001b[1;34m(self, n, dims, seed)\u001b[0m\n\u001b[0;32m     21\u001b[0m             \u001b[0mparticle1\u001b[0m\u001b[1;33m.\u001b[0m\u001b[0minitpre\u001b[0m \u001b[1;33m=\u001b[0m  \u001b[1;33m(\u001b[0m\u001b[1;36m100\u001b[0m \u001b[1;33m*\u001b[0m \u001b[0mparticle1\u001b[0m\u001b[1;33m.\u001b[0m\u001b[0minitrho\u001b[0m \u001b[1;33m*\u001b[0m \u001b[1;33m(\u001b[0m\u001b[0mparticle1\u001b[0m\u001b[1;33m.\u001b[0m\u001b[0mvmax\u001b[0m \u001b[1;33m**\u001b[0m \u001b[1;36m2\u001b[0m\u001b[1;33m)\u001b[0m\u001b[1;33m)\u001b[0m\u001b[1;33m/\u001b[0m\u001b[1;36m7\u001b[0m\u001b[1;33m\u001b[0m\u001b[1;33m\u001b[0m\u001b[0m\n\u001b[0;32m     22\u001b[0m             \u001b[0mparticle1\u001b[0m\u001b[1;33m.\u001b[0m\u001b[0mpre\u001b[0m \u001b[1;33m=\u001b[0m \u001b[1;33m(\u001b[0m\u001b[1;36m100\u001b[0m \u001b[1;33m*\u001b[0m \u001b[0mparticle1\u001b[0m\u001b[1;33m.\u001b[0m\u001b[0minitrho\u001b[0m \u001b[1;33m*\u001b[0m \u001b[1;33m(\u001b[0m\u001b[0mparticle1\u001b[0m\u001b[1;33m.\u001b[0m\u001b[0mvmax\u001b[0m \u001b[1;33m**\u001b[0m \u001b[1;36m2\u001b[0m\u001b[1;33m)\u001b[0m\u001b[1;33m)\u001b[0m\u001b[1;33m/\u001b[0m\u001b[1;36m7\u001b[0m\u001b[1;33m\u001b[0m\u001b[1;33m\u001b[0m\u001b[0m\n\u001b[1;32m---> 23\u001b[1;33m         \u001b[0mself\u001b[0m\u001b[1;33m.\u001b[0m\u001b[0mcalc_accel\u001b[0m\u001b[1;33m(\u001b[0m\u001b[1;33m)\u001b[0m\u001b[1;33m\u001b[0m\u001b[1;33m\u001b[0m\u001b[0m\n\u001b[0m\u001b[0;32m     24\u001b[0m \u001b[1;33m\u001b[0m\u001b[0m\n\u001b[0;32m     25\u001b[0m     \u001b[1;32mdef\u001b[0m \u001b[0mget_position\u001b[0m\u001b[1;33m(\u001b[0m\u001b[0mself\u001b[0m\u001b[1;33m)\u001b[0m\u001b[1;33m:\u001b[0m\u001b[1;33m\u001b[0m\u001b[1;33m\u001b[0m\u001b[0m\n",
      "\u001b[1;32m~\\AppData\\Local\\Temp\\ipykernel_244\\393558789.py\u001b[0m in \u001b[0;36mcalc_accel\u001b[1;34m(self)\u001b[0m\n\u001b[0;32m     51\u001b[0m                 \u001b[1;32mif\u001b[0m \u001b[0mid\u001b[0m\u001b[1;33m(\u001b[0m\u001b[0mparticle1\u001b[0m\u001b[1;33m)\u001b[0m \u001b[1;33m!=\u001b[0m \u001b[0mid\u001b[0m\u001b[1;33m(\u001b[0m\u001b[0mparticle2\u001b[0m\u001b[1;33m)\u001b[0m\u001b[1;33m:\u001b[0m\u001b[1;33m\u001b[0m\u001b[1;33m\u001b[0m\u001b[0m\n\u001b[0;32m     52\u001b[0m                     \u001b[0mtotal\u001b[0m \u001b[1;33m+=\u001b[0m \u001b[0mparticle1\u001b[0m\u001b[1;33m.\u001b[0m\u001b[0mm\u001b[0m \u001b[1;33m*\u001b[0m\u001b[0;31m\\\u001b[0m\u001b[1;33m\u001b[0m\u001b[1;33m\u001b[0m\u001b[0m\n\u001b[1;32m---> 53\u001b[1;33m                     \u001b[1;33m(\u001b[0m\u001b[1;33m(\u001b[0m\u001b[0mparticle1\u001b[0m\u001b[1;33m.\u001b[0m\u001b[0mpre\u001b[0m \u001b[1;33m/\u001b[0m \u001b[1;33m(\u001b[0m\u001b[0mparticle1\u001b[0m\u001b[1;33m.\u001b[0m\u001b[0mrho\u001b[0m \u001b[1;33m**\u001b[0m \u001b[1;36m2\u001b[0m\u001b[1;33m)\u001b[0m\u001b[1;33m)\u001b[0m \u001b[1;33m+\u001b[0m \u001b[1;33m(\u001b[0m\u001b[0mparticle2\u001b[0m\u001b[1;33m.\u001b[0m\u001b[0mpre\u001b[0m \u001b[1;33m/\u001b[0m \u001b[1;33m(\u001b[0m\u001b[0mparticle2\u001b[0m\u001b[1;33m.\u001b[0m\u001b[0mrho\u001b[0m \u001b[1;33m**\u001b[0m \u001b[1;36m2\u001b[0m\u001b[1;33m)\u001b[0m\u001b[1;33m)\u001b[0m\u001b[1;33m)\u001b[0m \u001b[1;33m*\u001b[0m\u001b[0;31m\\\u001b[0m\u001b[1;33m\u001b[0m\u001b[1;33m\u001b[0m\u001b[0m\n\u001b[0m\u001b[0;32m     54\u001b[0m                     \u001b[0mpairwise_calculator\u001b[0m\u001b[1;33m(\u001b[0m\u001b[0mparticle1\u001b[0m\u001b[1;33m,\u001b[0m \u001b[0mparticle2\u001b[0m\u001b[1;33m)\u001b[0m\u001b[1;33m.\u001b[0m\u001b[0mdgaus_kern\u001b[0m\u001b[1;33m(\u001b[0m\u001b[1;33m)\u001b[0m\u001b[1;33m\u001b[0m\u001b[1;33m\u001b[0m\u001b[0m\n\u001b[0;32m     55\u001b[0m             \u001b[0mparticle1\u001b[0m\u001b[1;33m.\u001b[0m\u001b[0ma\u001b[0m \u001b[1;33m=\u001b[0m \u001b[1;33m-\u001b[0m\u001b[0mtotal\u001b[0m\u001b[1;33m\u001b[0m\u001b[1;33m\u001b[0m\u001b[0m\n",
      "\u001b[1;31mZeroDivisionError\u001b[0m: float division by zero"
     ]
    }
   ],
   "source": [
    "my_particles = particle_array(10, [0,10,0,20], 5)"
   ]
  },
  {
   "cell_type": "code",
   "execution_count": 185,
   "id": "38fef06b",
   "metadata": {},
   "outputs": [
    {
     "name": "stdout",
     "output_type": "stream",
     "text": [
      "[9, 4, 5]\n",
      "[8, 0, 7]\n",
      "[3, 0, 2]\n",
      "[1, 5, 7]\n",
      "[3, 6, 8]\n",
      "[1, 9, 3]\n",
      "[0, 3, 6]\n",
      "[4, 2, 6]\n",
      "[2, 1, 2]\n",
      "[9, 9, 7]\n"
     ]
    }
   ],
   "source": [
    "my_particles.get_position()"
   ]
  },
  {
   "cell_type": "code",
   "execution_count": 175,
   "id": "67edced6",
   "metadata": {},
   "outputs": [
    {
     "name": "stdout",
     "output_type": "stream",
     "text": [
      "[0, 0, 0]\n",
      "[0, 0, 0]\n",
      "[0, 0, 0]\n",
      "[0, 0, 0]\n",
      "[0, 0, 0]\n",
      "[0, 0, 0]\n",
      "[0, 0, 0]\n",
      "[0, 0, 0]\n",
      "[0, 0, 0]\n",
      "[0, 0, 0]\n"
     ]
    }
   ],
   "source": [
    "my_particles.get_direction()"
   ]
  },
  {
   "cell_type": "code",
   "execution_count": 176,
   "id": "b8ca244b",
   "metadata": {},
   "outputs": [
    {
     "name": "stdout",
     "output_type": "stream",
     "text": [
      "9.143174998232535\n",
      "11.867403458197462\n",
      "3.8593473173210358\n",
      "4.455676523924033\n",
      "11.94067718115041\n",
      "7.397800942233391\n",
      "3.179014260308342\n",
      "4.529579328536242\n",
      "3.858984336907222\n",
      "3.227689922292964e-05\n"
     ]
    }
   ],
   "source": [
    "my_particles.get_initrho()"
   ]
  },
  {
   "cell_type": "code",
   "execution_count": 177,
   "id": "896c438c",
   "metadata": {},
   "outputs": [
    {
     "name": "stdout",
     "output_type": "stream",
     "text": [
      "9.143174998232535\n",
      "11.867403458197462\n",
      "3.8593473173210358\n",
      "4.455676523924033\n",
      "11.94067718115041\n",
      "7.397800942233391\n",
      "3.179014260308342\n",
      "4.529579328536242\n",
      "3.858984336907222\n",
      "3.227689922292964e-05\n"
     ]
    }
   ],
   "source": [
    "my_particles.get_rho()"
   ]
  },
  {
   "cell_type": "code",
   "execution_count": 179,
   "id": "382758c1",
   "metadata": {},
   "outputs": [
    {
     "name": "stdout",
     "output_type": "stream",
     "text": [
      "13061.67856890362\n",
      "16953.43351171066\n",
      "5513.353310458622\n",
      "6365.252177034332\n",
      "17058.1102587863\n",
      "10568.287060333416\n",
      "4541.448943297632\n",
      "6470.827612194631\n",
      "5512.834767010317\n",
      "0.04610985603275663\n"
     ]
    }
   ],
   "source": [
    "my_particles.get_initpre()"
   ]
  },
  {
   "cell_type": "code",
   "execution_count": 181,
   "id": "2de273c0",
   "metadata": {},
   "outputs": [
    {
     "name": "stdout",
     "output_type": "stream",
     "text": [
      "13061.67856890362\n",
      "16953.43351171066\n",
      "5513.353310458622\n",
      "6365.252177034332\n",
      "17058.1102587863\n",
      "10568.287060333416\n",
      "4541.448943297632\n",
      "6470.827612194631\n",
      "5512.834767010317\n",
      "0.04610985603275663\n"
     ]
    }
   ],
   "source": [
    "my_particles.get_pre()"
   ]
  },
  {
   "cell_type": "code",
   "execution_count": 182,
   "id": "d0bdde2c",
   "metadata": {},
   "outputs": [
    {
     "name": "stdout",
     "output_type": "stream",
     "text": [
      "0.15869135328230768\n",
      "52633.610912295655\n",
      "2.2601226522551308e-09\n",
      "-5.207986999117064e-27\n",
      "-52633.769603648936\n",
      "5.1406448556924676e-27\n",
      "-2.0342543292027232e-19\n",
      "2.0342543292027232e-19\n",
      "-2.2601226522551308e-09\n",
      "-0.0\n"
     ]
    }
   ],
   "source": [
    "my_particles.get_accel()"
   ]
  },
  {
   "cell_type": "code",
   "execution_count": null,
   "id": "f4288c28",
   "metadata": {},
   "outputs": [],
   "source": []
  },
  {
   "cell_type": "code",
   "execution_count": null,
   "id": "a3640f66",
   "metadata": {},
   "outputs": [],
   "source": []
  }
 ],
 "metadata": {
  "hide_input": false,
  "kernelspec": {
   "display_name": "Python 3 (ipykernel)",
   "language": "python",
   "name": "python3"
  },
  "language_info": {
   "codemirror_mode": {
    "name": "ipython",
    "version": 3
   },
   "file_extension": ".py",
   "mimetype": "text/x-python",
   "name": "python",
   "nbconvert_exporter": "python",
   "pygments_lexer": "ipython3",
   "version": "3.9.15"
  },
  "toc": {
   "base_numbering": 1,
   "nav_menu": {},
   "number_sections": true,
   "sideBar": true,
   "skip_h1_title": false,
   "title_cell": "Table of Contents",
   "title_sidebar": "Contents",
   "toc_cell": false,
   "toc_position": {},
   "toc_section_display": true,
   "toc_window_display": false
  },
  "varInspector": {
   "cols": {
    "lenName": 16,
    "lenType": 16,
    "lenVar": 40
   },
   "kernels_config": {
    "python": {
     "delete_cmd_postfix": "",
     "delete_cmd_prefix": "del ",
     "library": "var_list.py",
     "varRefreshCmd": "print(var_dic_list())"
    },
    "r": {
     "delete_cmd_postfix": ") ",
     "delete_cmd_prefix": "rm(",
     "library": "var_list.r",
     "varRefreshCmd": "cat(var_dic_list()) "
    }
   },
   "types_to_exclude": [
    "module",
    "function",
    "builtin_function_or_method",
    "instance",
    "_Feature"
   ],
   "window_display": false
  }
 },
 "nbformat": 4,
 "nbformat_minor": 5
}
