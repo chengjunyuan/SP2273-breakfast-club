{
 "cells": [
  {
   "cell_type": "markdown",
   "id": "f722cb66",
   "metadata": {},
   "source": [
    "I've never written OOP in Python before, so lets try."
   ]
  },
  {
   "cell_type": "code",
   "execution_count": 57,
   "id": "e4d071f6",
   "metadata": {},
   "outputs": [],
   "source": [
    "import numpy as np\n",
    "from matplotlib import pyplot as plt"
   ]
  },
  {
   "cell_type": "code",
   "execution_count": 27,
   "id": "14692c45",
   "metadata": {},
   "outputs": [],
   "source": [
    "class tOne():\n",
    "    def __init__(self, x, y, z):\n",
    "        self.x = x\n",
    "        self.y = y\n",
    "        self.z = z\n",
    "    \n",
    "    def __str__(self):\n",
    "        return \"This is a 3D Particle!\"\n",
    "    \n",
    "    def getPos(self):\n",
    "        return f\"The position of the particle is ({self.x},{self.y},{self.z}).\""
   ]
  },
  {
   "cell_type": "code",
   "execution_count": 28,
   "id": "f7b8dee9",
   "metadata": {},
   "outputs": [
    {
     "name": "stdout",
     "output_type": "stream",
     "text": [
      "This is a 3D Particle!\n",
      "The position of the particle is (1,0,2).\n"
     ]
    }
   ],
   "source": [
    "ch = tOne(1, 0, 2)\n",
    "print(ch)\n",
    "print(ch.getPos())"
   ]
  },
  {
   "cell_type": "code",
   "execution_count": 32,
   "id": "12aa9c88",
   "metadata": {},
   "outputs": [],
   "source": [
    "class tTwo():\n",
    "    def __init__(self, mass, position, velocity, direction, acceleration):\n",
    "        self.m = mass\n",
    "        self.p = position\n",
    "        self.v = velocity\n",
    "        self.d = direction\n",
    "        self.a = acceleration\n",
    "    \n",
    "    def __str__(self):\n",
    "        return \"Weeeee!\"\n",
    "    \n",
    "    def nextPos(self, timestep):\n",
    "        self.p = [0, 0, 0]\n",
    "        \n",
    "    def updatePos(self, newPosition):\n",
    "        self.p = newPosition\n",
    "    \n",
    "    def getPos(self):\n",
    "        return f\"The position of the particle is ({self.p[0]},{self.p[1]},{self.p[2]}).\""
   ]
  },
  {
   "cell_type": "code",
   "execution_count": 35,
   "id": "ea387bb3",
   "metadata": {},
   "outputs": [
    {
     "name": "stdout",
     "output_type": "stream",
     "text": [
      "The position of the particle is (1,0,0).\n",
      "The position of the particle is (10,10,10).\n"
     ]
    }
   ],
   "source": [
    "p1 = tTwo(0.5, [1, 0, 0], [-1, 2, 3], 1, 3)\n",
    "print(p1.getPos())\n",
    "p1.updatePos([10, 10, 10])\n",
    "print(p1.getPos())"
   ]
  },
  {
   "cell_type": "markdown",
   "id": "496be858",
   "metadata": {},
   "source": [
    "### Design Framework\n",
    "\n",
    "Let's think about what we want our particle to have. Our happy little particle should have the following attributes:\n",
    "1. Mass\n",
    "2. Position\n",
    "3. Direction vector (split into a unit direction vector, and a scalar)\n",
    "4. Acceleration\n",
    "\n",
    "After that, let's think about what we want our particle to do. We want to be able to do the following with our particle class:\n",
    "1. Create new particles, i.e., an `__init__(self, args)` function (a.k.a. a constructor)\n",
    "2. \"Print\" the particle, i.e., a `__str(self)` function \n",
    "3. Get the current position of the particle\n",
    "4. Get the current velocity (magnitude) of the particle\n",
    "5. Get the current direction of the particle\n",
    "6. Get the current acceleration of the particle\n",
    "7. Update the position of the particle\n",
    "8. Update the velocity (magnitude) of the particle\n",
    "9. Update the direction of the particle\n",
    "10. Update the acceleration of the particle.\n",
    "\n",
    "With these functionalities, we will be able to track the movement of the particle over time, and this will eventually allow us to plot a nice graph with `matplotlib`. Let us begin to start implementing these in a class called `pTest1`.\n",
    "\n",
    "Notice that we don't need functions to either get the mass, or update the mass of the particle. This is because in our simulation, we assume that the mass of the particle is constant throughout."
   ]
  },
  {
   "cell_type": "code",
   "execution_count": 63,
   "id": "034a32ce",
   "metadata": {},
   "outputs": [],
   "source": [
    "class pTest1():\n",
    "    def __init__(self, mass, position, velocity, direction, acceleration):\n",
    "        self.m = mass\n",
    "        self.p = position\n",
    "        self.v = velocity\n",
    "        self.d = direction\n",
    "        self.a = acceleration\n",
    "    \n",
    "    def __str__(self):\n",
    "        return \"Weeeee!\"\n",
    "    \n",
    "    '''\n",
    "    In the next iteration, these functions will simply return the values.\n",
    "    We are printing out the values at the moment for bug checking and \n",
    "    feature testing.\n",
    "    '''\n",
    "    def getPos(self):\n",
    "        return f\"The position of the particle is ({self.p[0]},{self.p[1]},{self.p[2]}).\"\n",
    "    \n",
    "    def getVel(self):\n",
    "        return f\"The velocity of the particle is {self.v}\"\n",
    "    \n",
    "    def getDir(self):\n",
    "        return f\"The direction the particle is travelling in is {self.d}\"\n",
    "    \n",
    "    def getAcc(self):\n",
    "        return f\"The acceleration of the particle is {self.a}\"\n",
    "    \n",
    "    def newPos(self):\n",
    "        timestep = 1 # 1 second for now, we'll make this changeable in the future\n",
    "        distanceMoved = self.v * self.d\n",
    "        for i in range(3):\n",
    "            self.p[i] += distanceMoved[i]\n",
    "        return f\"The new position of the particle is ({self.p[0]},{self.p[1]},{self.p[2]}).\"\n",
    "    \n",
    "    def newDir(self, newDir):\n",
    "        self.v = np.linalg.norm(newDir)\n",
    "        self.d = newDir\n",
    "        print(self.v)\n",
    "        print(self.d)\n",
    "    \n",
    "    def newAcc(self, newAcc):\n",
    "        self.a = newAcc\n",
    "        print(self.a)"
   ]
  },
  {
   "cell_type": "code",
   "execution_count": 64,
   "id": "ec577193",
   "metadata": {},
   "outputs": [
    {
     "name": "stdout",
     "output_type": "stream",
     "text": [
      "The position of the particle is (0,0,0).\n",
      "The velocity of the particle is 1\n",
      "The direction the particle is travelling in is [1, 0, 0]\n",
      "The acceleration of the particle is 1\n",
      "The new position of the particle is (1,0,0).\n",
      "10\n",
      "None\n",
      "37.416573867739416\n",
      "[10, 20, 30]\n",
      "None\n"
     ]
    }
   ],
   "source": [
    "p1 = pTest1(1, [0, 0, 0], 1, [1, 0, 0], 1)\n",
    "print(p1.getPos())\n",
    "print(p1.getVel())\n",
    "print(p1.getDir())\n",
    "print(p1.getAcc())\n",
    "print(p1.newPos())\n",
    "print(p1.newAcc(10))\n",
    "print(p1.newDir([10, 20, 30]))"
   ]
  },
  {
   "cell_type": "code",
   "execution_count": null,
   "id": "b2f34d54",
   "metadata": {},
   "outputs": [],
   "source": []
  }
 ],
 "metadata": {
  "hide_input": false,
  "kernelspec": {
   "display_name": "Python 3 (ipykernel)",
   "language": "python",
   "name": "python3"
  },
  "language_info": {
   "codemirror_mode": {
    "name": "ipython",
    "version": 3
   },
   "file_extension": ".py",
   "mimetype": "text/x-python",
   "name": "python",
   "nbconvert_exporter": "python",
   "pygments_lexer": "ipython3",
   "version": "3.9.15"
  },
  "toc": {
   "base_numbering": 1,
   "nav_menu": {},
   "number_sections": true,
   "sideBar": true,
   "skip_h1_title": false,
   "title_cell": "Table of Contents",
   "title_sidebar": "Contents",
   "toc_cell": false,
   "toc_position": {},
   "toc_section_display": true,
   "toc_window_display": false
  },
  "varInspector": {
   "cols": {
    "lenName": 16,
    "lenType": 16,
    "lenVar": 40
   },
   "kernels_config": {
    "python": {
     "delete_cmd_postfix": "",
     "delete_cmd_prefix": "del ",
     "library": "var_list.py",
     "varRefreshCmd": "print(var_dic_list())"
    },
    "r": {
     "delete_cmd_postfix": ") ",
     "delete_cmd_prefix": "rm(",
     "library": "var_list.r",
     "varRefreshCmd": "cat(var_dic_list()) "
    }
   },
   "types_to_exclude": [
    "module",
    "function",
    "builtin_function_or_method",
    "instance",
    "_Feature"
   ],
   "window_display": false
  }
 },
 "nbformat": 4,
 "nbformat_minor": 5
}
