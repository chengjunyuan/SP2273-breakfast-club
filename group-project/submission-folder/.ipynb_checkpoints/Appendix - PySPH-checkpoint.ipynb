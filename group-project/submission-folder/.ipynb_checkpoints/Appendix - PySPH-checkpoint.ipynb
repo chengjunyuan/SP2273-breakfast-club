{
 "cells": [
  {
   "cell_type": "markdown",
   "id": "ef30be34",
   "metadata": {},
   "source": [
    "# Appendix - PySPH\n",
    "[PySPH](https://pysph.readthedocs.io/en/latest/) that enables SPH simulations in Python, and has been undergoing active development for almost [fifteen years](https://pysph.readthedocs.io/en/latest/overview.html#history). We take reference from their [tutorial](https://pysph.readthedocs.io/en/latest/design/overview.html#the-dam-break-problem), which provides the dam break problem as a context for understanding how PySPH works. We first present the code, before walking through it.\n",
    "\n",
    "```python\n",
    "%matplotlib ipympl\n",
    "\n",
    "from matplotlib import pyplot as plt\n",
    "from pysph.tools.ipy_viewer import Viewer2D\n",
    "\n",
    "viewer = Viewer2D('db2d_output')\n",
    "viewer.interactive_plot()\n",
    "```\n",
    "\n",
    "We first enable interactive graphics in our Jupyter notebook using the `%matplotlib ipympl` command, before importing `pyplot` and `Viewer2D` from `matplotlib` and `pysph` respectively. Folowing that, we define a variable called `viewer`, which is a `Viewer2D` object applied to the folder `db2d_output`. The folder contains many files with the `.npz` file format, which is a special way of [storing `numpy` data](https://stackoverflow.com/a/57268286). By running the `interactive_plot()` command, we are able to generate the graphics we see below.\n",
    "\n",
    "In this appendix, our focus is on the [source code](https://github.com/pypr/pysph/blob/bc5c793a82cb4a1f57a7602aea1be85d5e4cc87f/pysph/examples/dam_break_2d.py) used to generate the files within the `db2d_output` folder, as the plotting of that data and generation of graphics is not a technique specific to SPH or PySPH."
   ]
  },
  {
   "cell_type": "markdown",
   "id": "7588102f",
   "metadata": {},
   "source": [
    "Although the source code is 304 lines long, we can blackbox the vast majority of it, and reduce it to the following:\n",
    "\n",
    "```python\n",
    "###############################\n",
    "# Block 1: Importing packages #\n",
    "###############################\n",
    "\n",
    "###############################\n",
    "# Block 2: Defining constants #\n",
    "###############################\n",
    "\n",
    "###############################\n",
    "# Block 3: Actual simulation  #\n",
    "###############################\n",
    "\n",
    "class DamBreak2D(Application):\n",
    "    def add_user_options(self, group):\n",
    "        # Code here\n",
    "        \n",
    "    def consume_user_options(self):\n",
    "        # Code here\n",
    "        \n",
    "    def configure_scheme(self):\n",
    "        # Code here\n",
    "        \n",
    "    def create_scheme(self):\n",
    "        # Code here\n",
    "        \n",
    "    def create_equations(self):\n",
    "        # Code here\n",
    "        \n",
    "    def create_particles(self):\n",
    "        # Code here\n",
    "        \n",
    "    def kernel_corrections(self, fluid, boundary):\n",
    "        # Code here\n",
    "        \n",
    "    def post_process(self, info_fname):\n",
    "        # Code here\n",
    "        \n",
    "    def customize_output(self):\n",
    "        # Code here\n",
    "        \n",
    "###############################\n",
    "# Block 4: Running the model  #\n",
    "###############################\n",
    "        \n",
    "if __name__ == '__main__':\n",
    "    app = DamBreak2D()\n",
    "    app.run()\n",
    "    app.post_process(app.info_filename)\n",
    "```"
   ]
  },
  {
   "cell_type": "markdown",
   "id": "f6f54d84",
   "metadata": {},
   "source": [
    "The key details to note are:\n",
    "1. PySPH allows the user to set some options and fine-tune the model using the `add_user_options` and `consume_user_options` functions.\n",
    "2. PySPH allows the user to define the type of SPH they are modelling with the `configure_scheme` and `create_scheme` functions; in the case of this dam break model, they are using the Weakly Compressible Smoothed-Particle Hydrodynamics (WCSPH) scheme.\n",
    "3. PySPH allows the user to define the particular fluid equations used to model the fluid with the `create_equations` and `kernel_corrections` functions.\n",
    "4. PySPH initializes particles based on the constants defined in Block 2 using the `create_particles` function, and runs a simulation with these particles and the equations defined above.\n",
    "5. PySPH provides a user-friendly visualization using the `post_process` and `customize_output` functions, producing interactive `pyplot` animations.\n",
    "\n",
    "In essence, the PySPH package does what we have done in the notebook, but much better. This is to be expected, considering that they have been working on this project for fifteen years, and we have been working on this project for six weeks. However, the **key takeaway from studying PySPH is that Python is useful in modeling fluid dynamics, and has been [used extensively in literature](https://pysph.readthedocs.io/en/latest/overview.html#research-papers-using-pysph)**"
   ]
  },
  {
   "cell_type": "markdown",
   "id": "4cd71e3c",
   "metadata": {},
   "source": [
    "**WARNING: THE FOLLOWING CODE BLOCK REQUIRES THE `PySPH` PACKAGE, AND REQUIRES ADDITIONAL EFFORT TO SET UP.**"
   ]
  },
  {
   "cell_type": "code",
   "execution_count": null,
   "id": "bb8a8a3f",
   "metadata": {},
   "outputs": [],
   "source": [
    "%matplotlib ipympl\n",
    "\n",
    "from matplotlib import pyplot as plt\n",
    "from pysph.tools.ipy_viewer import Viewer2D\n",
    "\n",
    "viewer = Viewer2D('db2d_output')\n",
    "viewer.interactive_plot()"
   ]
  }
 ],
 "metadata": {
  "kernelspec": {
   "display_name": "Python 3 (ipykernel)",
   "language": "python",
   "name": "python3"
  },
  "language_info": {
   "codemirror_mode": {
    "name": "ipython",
    "version": 3
   },
   "file_extension": ".py",
   "mimetype": "text/x-python",
   "name": "python",
   "nbconvert_exporter": "python",
   "pygments_lexer": "ipython3",
   "version": "3.10.8"
  },
  "toc": {
   "base_numbering": 1,
   "nav_menu": {},
   "number_sections": true,
   "sideBar": true,
   "skip_h1_title": false,
   "title_cell": "Table of Contents",
   "title_sidebar": "Contents",
   "toc_cell": false,
   "toc_position": {},
   "toc_section_display": true,
   "toc_window_display": false
  },
  "varInspector": {
   "cols": {
    "lenName": 16,
    "lenType": 16,
    "lenVar": 40
   },
   "kernels_config": {
    "python": {
     "delete_cmd_postfix": "",
     "delete_cmd_prefix": "del ",
     "library": "var_list.py",
     "varRefreshCmd": "print(var_dic_list())"
    },
    "r": {
     "delete_cmd_postfix": ") ",
     "delete_cmd_prefix": "rm(",
     "library": "var_list.r",
     "varRefreshCmd": "cat(var_dic_list()) "
    }
   },
   "types_to_exclude": [
    "module",
    "function",
    "builtin_function_or_method",
    "instance",
    "_Feature"
   ],
   "window_display": false
  }
 },
 "nbformat": 4,
 "nbformat_minor": 5
}
