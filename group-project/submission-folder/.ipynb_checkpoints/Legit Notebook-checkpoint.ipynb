{
 "cells": [
  {
   "cell_type": "markdown",
   "id": "e93b779b",
   "metadata": {},
   "source": [
    "**Remarks**\n",
    "The brief flow of our notebook will be as follows:\n",
    "1. Introduction to scientific context\n",
    "2. Introduction to data abstractions\n",
    "3. $n$-body model\n",
    "4. Dam break model\n",
    "5. Extensions\n",
    "6. Conclusion\n",
    "7. References\n",
    "8. Appendices"
   ]
  },
  {
   "cell_type": "markdown",
   "id": "2257aaf5",
   "metadata": {},
   "source": [
    "# Introduction\n",
    "- Scientific background\n",
    "- Modelling of fluid dynamics\n",
    "- Fluid equations\n",
    "- Features of SPH"
   ]
  },
  {
   "cell_type": "markdown",
   "id": "9844e7e8",
   "metadata": {},
   "source": [
    "# Modelling Fluid Dynamics\n",
    "- Using a `Particle` data type\n",
    "- Important variables to store\n",
    "- Introducing a kernel function"
   ]
  },
  {
   "cell_type": "markdown",
   "id": "13e4f5ee",
   "metadata": {},
   "source": [
    "# The $n$-body problem\n",
    "- Problem statement\n",
    "- Code implementation\n",
    "- Pretty pictures\n",
    "- Problems with naive implementation of $n$-body problem"
   ]
  },
  {
   "cell_type": "markdown",
   "id": "9b4c30df",
   "metadata": {},
   "source": [
    "# The dam break model\n",
    "- Problem statement\n",
    "- Code implementation\n",
    "- Pretty pictures\n",
    "- Explanation of why SPH is good"
   ]
  },
  {
   "cell_type": "markdown",
   "id": "5d3e79ee",
   "metadata": {},
   "source": [
    "# Extensions\n",
    "- How SPH can be extended to other fields/case studies\n",
    "- Optimizations to our code"
   ]
  },
  {
   "cell_type": "markdown",
   "id": "c916bc50",
   "metadata": {},
   "source": [
    "# Conclusion\n",
    "- SPH good"
   ]
  },
  {
   "cell_type": "markdown",
   "id": "9b34e891",
   "metadata": {},
   "source": [
    "# References\n",
    "ACS citation style."
   ]
  },
  {
   "cell_type": "markdown",
   "id": "5fb64d0a",
   "metadata": {},
   "source": [
    "# Appendices\n",
    "- Zhen Jie's explanation of the science\n",
    "- Any other supplementary nonsense or further extensions of the work above."
   ]
  },
  {
   "cell_type": "code",
   "execution_count": null,
   "id": "cfad600d",
   "metadata": {},
   "outputs": [],
   "source": []
  }
 ],
 "metadata": {
  "kernelspec": {
   "display_name": "Python 3 (ipykernel)",
   "language": "python",
   "name": "python3"
  },
  "language_info": {
   "codemirror_mode": {
    "name": "ipython",
    "version": 3
   },
   "file_extension": ".py",
   "mimetype": "text/x-python",
   "name": "python",
   "nbconvert_exporter": "python",
   "pygments_lexer": "ipython3",
   "version": "3.10.8"
  },
  "toc": {
   "base_numbering": 1,
   "nav_menu": {},
   "number_sections": true,
   "sideBar": true,
   "skip_h1_title": false,
   "title_cell": "Table of Contents",
   "title_sidebar": "Contents",
   "toc_cell": false,
   "toc_position": {},
   "toc_section_display": true,
   "toc_window_display": false
  },
  "varInspector": {
   "cols": {
    "lenName": 16,
    "lenType": 16,
    "lenVar": 40
   },
   "kernels_config": {
    "python": {
     "delete_cmd_postfix": "",
     "delete_cmd_prefix": "del ",
     "library": "var_list.py",
     "varRefreshCmd": "print(var_dic_list())"
    },
    "r": {
     "delete_cmd_postfix": ") ",
     "delete_cmd_prefix": "rm(",
     "library": "var_list.r",
     "varRefreshCmd": "cat(var_dic_list()) "
    }
   },
   "types_to_exclude": [
    "module",
    "function",
    "builtin_function_or_method",
    "instance",
    "_Feature"
   ],
   "window_display": false
  }
 },
 "nbformat": 4,
 "nbformat_minor": 5
}
